{
 "cells": [
  {
   "cell_type": "code",
   "execution_count": 20,
   "id": "7a269345",
   "metadata": {},
   "outputs": [],
   "source": [
    "import pandas as pd\n",
    "answer = pd.read_csv(r'../datasets/PubMedQa_cleaning/pqa_labeled_test.csv')\n",
    "fir_finetune = pd.read_csv(r'../first_result.csv')\n",
    "sec_finetune = pd.read_csv(r'../second_result.csv')"
   ]
  },
  {
   "cell_type": "code",
   "execution_count": 21,
   "id": "5a15d5b8",
   "metadata": {},
   "outputs": [],
   "source": [
    "answer = answer['final_decision'].str.upper()\n"
   ]
  },
  {
   "cell_type": "code",
   "execution_count": 22,
   "id": "81cc881a",
   "metadata": {},
   "outputs": [],
   "source": [
    "fir_finetune = fir_finetune['pred_label'].str.upper()"
   ]
  },
  {
   "cell_type": "code",
   "execution_count": 23,
   "id": "b99f7084",
   "metadata": {},
   "outputs": [],
   "source": [
    "sec_finetune = sec_finetune['pred_label'].str.upper()"
   ]
  },
  {
   "cell_type": "code",
   "execution_count": 31,
   "id": "e63224d0",
   "metadata": {},
   "outputs": [
    {
     "name": "stdout",
     "output_type": "stream",
     "text": [
      "accuracy of first finetune = 0.638095238095238\n",
      "accuracy of second finetune = 0.6285714285714286\n",
      "relative gain = -0.014925373134328306\n"
     ]
    }
   ],
   "source": [
    "fir_accuracy = list(answer == fir_finetune).count(True) / len(answer)\n",
    "sec_accuracy = list(answer == sec_finetune).count(True) / len(answer) \n",
    "print(f'accuracy of first finetune = {fir_accuracy}')\n",
    "print(f'accuracy of second finetune = {sec_accuracy}')\n",
    "print(f'relative gain = {(sec_accuracy - fir_accuracy) / fir_accuracy}')"
   ]
  },
  {
   "cell_type": "code",
   "execution_count": 26,
   "id": "fc63b1b3",
   "metadata": {},
   "outputs": [
    {
     "data": {
      "text/plain": [
       "0        YES\n",
       "1        YES\n",
       "2         NO\n",
       "3        YES\n",
       "4      MAYBE\n",
       "       ...  \n",
       "100      YES\n",
       "101       NO\n",
       "102       NO\n",
       "103      YES\n",
       "104       NO\n",
       "Name: final_decision, Length: 105, dtype: object"
      ]
     },
     "execution_count": 26,
     "metadata": {},
     "output_type": "execute_result"
    }
   ],
   "source": [
    "answer "
   ]
  },
  {
   "cell_type": "code",
   "execution_count": 27,
   "id": "5c9aa0af",
   "metadata": {},
   "outputs": [
    {
     "data": {
      "text/plain": [
       "0      YES\n",
       "1       NO\n",
       "2      YES\n",
       "3       NO\n",
       "4       NO\n",
       "      ... \n",
       "100    YES\n",
       "101    YES\n",
       "102    YES\n",
       "103    YES\n",
       "104    YES\n",
       "Name: pred_label, Length: 105, dtype: object"
      ]
     },
     "execution_count": 27,
     "metadata": {},
     "output_type": "execute_result"
    }
   ],
   "source": [
    "fir_finetune"
   ]
  },
  {
   "cell_type": "code",
   "execution_count": null,
   "id": "8356e578",
   "metadata": {},
   "outputs": [],
   "source": []
  }
 ],
 "metadata": {
  "kernelspec": {
   "display_name": "llamatest",
   "language": "python",
   "name": "python3"
  },
  "language_info": {
   "codemirror_mode": {
    "name": "ipython",
    "version": 3
   },
   "file_extension": ".py",
   "mimetype": "text/x-python",
   "name": "python",
   "nbconvert_exporter": "python",
   "pygments_lexer": "ipython3",
   "version": "3.12.11"
  }
 },
 "nbformat": 4,
 "nbformat_minor": 5
}

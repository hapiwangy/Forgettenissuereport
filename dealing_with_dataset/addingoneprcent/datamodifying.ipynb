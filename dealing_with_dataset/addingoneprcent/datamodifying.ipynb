{
 "cells": [
  {
   "cell_type": "code",
   "execution_count": 1,
   "id": "21d0071f",
   "metadata": {},
   "outputs": [],
   "source": [
    "import pandas as pd\n",
    "import os"
   ]
  },
  {
   "cell_type": "code",
   "execution_count": 2,
   "id": "95b3ed36",
   "metadata": {},
   "outputs": [
    {
     "name": "stdout",
     "output_type": "stream",
     "text": [
      "0.65\n"
     ]
    }
   ],
   "source": [
    "cpath = r'D:\\finding jobs notes and usc things\\USC projects\\Fissue\\dealing_with_dataset'\n",
    "pmq = os.path.join(cpath, 'datasets', 'pubmedqa')\n",
    "dreaddit = os.path.join(cpath, 'datasets', 'dreaddit')\n",
    "ptrain, pval, ptest = [pd.read_csv(os.path.join(pmq, f'{x}.csv')) for x in ['train', 'val', 'test']]\n",
    "dtrain, dval, dtest = [pd.read_csv(os.path.join(dreaddit, f'{x}.csv')) for x in ['train', 'val', 'test']]\n",
    "dtotal = len(dtrain) + len(dtest) + len(dval)\n",
    "ptotal = len(ptrain) + len(ptest) + len(pval)\n",
    "# print(f\"{dreaddit}\\ntrain: {len(train)/total}, test: {len(test)/total}, val: {len(val)/total}\")\n",
    "# print(f\"{dtotal}, {ptotal}\")\n",
    "print(len(ptrain)/ ptotal)"
   ]
  },
  {
   "cell_type": "code",
   "execution_count": 3,
   "id": "eabb4e36",
   "metadata": {},
   "outputs": [],
   "source": [
    "ptrain['dataset'] = 'pubmedqa'\n",
    "pval['dataset'] = 'pubmedqa'\n",
    "ptest['dataset'] = 'pubmedqa'\n",
    "dtrain['dataset'] = 'dreaddit'\n",
    "dval['dataset'] = 'dreaddit'\n",
    "dtest['dataset'] = 'dreaddit'\n",
    "ptrain.to_csv(os.path.join(pmq, 'train.csv'), index=False)\n",
    "ptest.to_csv(os.path.join(pmq, 'test.csv'), index=False)\n",
    "pval.to_csv(os.path.join(pmq, 'val.csv'), index=False)\n",
    "dtrain.to_csv(os.path.join(dreaddit, 'train.csv'), index=False)\n",
    "dtest.to_csv(os.path.join(dreaddit, 'test.csv'), index=False)\n",
    "dval.to_csv(os.path.join(dreaddit, 'val.csv'), index=False)"
   ]
  },
  {
   "cell_type": "markdown",
   "id": "715a8882",
   "metadata": {},
   "source": [
    "# experiment\n",
    "> 1. adding 1% data only to the dreaddit to the training set\n",
    "\n",
    "## what to consider?\n",
    "> prompt could be different during one training > dataset should contain where it comes from \n"
   ]
  },
  {
   "cell_type": "code",
   "execution_count": 4,
   "id": "7c0f92f2",
   "metadata": {},
   "outputs": [],
   "source": [
    "pdf = pd.read_csv(os.path.join(pmq, 'train.csv')) # take 15% data from the pubmedqa/train.csv\n",
    "ddf = pd.read_csv(os.path.join(dreaddit, 'train.csv'))\n",
    "ddf['dataset'] = 'dreaddit'\n",
    "pdf['dataset'] = 'pubmedqa'"
   ]
  },
  {
   "cell_type": "code",
   "execution_count": 5,
   "id": "2ccad0a1",
   "metadata": {},
   "outputs": [],
   "source": [
    "from sklearn.model_selection import train_test_split\n",
    "train_df, temp_df = train_test_split(pdf, test_size = 0.85, random_state=42)\n",
    "# print(len(train_df), len(temp_df))"
   ]
  },
  {
   "cell_type": "code",
   "execution_count": 6,
   "id": "b0974c35",
   "metadata": {},
   "outputs": [],
   "source": [
    "n_ddf = pd.concat([ddf, train_df], axis=0, ignore_index=True)"
   ]
  },
  {
   "cell_type": "code",
   "execution_count": 7,
   "id": "807ed673",
   "metadata": {},
   "outputs": [
    {
     "name": "stdout",
     "output_type": "stream",
     "text": [
      "2270 2367\n"
     ]
    }
   ],
   "source": [
    "print(len(ddf), len(n_ddf))"
   ]
  },
  {
   "cell_type": "code",
   "execution_count": 8,
   "id": "d38a52dc",
   "metadata": {},
   "outputs": [],
   "source": [
    "dataset_name = 'dreaddit-1percentpubmedqa' \n",
    "os.makedirs(dataset_name, exist_ok=True)\n",
    "n_ddf.to_csv(os.path.join(dataset_name, 'train.csv'), index=False)\n",
    "dval.to_csv(os.path.join(dataset_name, 'val.csv'), index=False)\n",
    "dtest.to_csv(os.path.join(dataset_name, 'test.csv'), index=False)"
   ]
  },
  {
   "cell_type": "code",
   "execution_count": null,
   "id": "abd63533",
   "metadata": {},
   "outputs": [],
   "source": []
  }
 ],
 "metadata": {
  "kernelspec": {
   "display_name": "llamatest",
   "language": "python",
   "name": "python3"
  },
  "language_info": {
   "codemirror_mode": {
    "name": "ipython",
    "version": 3
   },
   "file_extension": ".py",
   "mimetype": "text/x-python",
   "name": "python",
   "nbconvert_exporter": "python",
   "pygments_lexer": "ipython3",
   "version": "3.12.11"
  }
 },
 "nbformat": 4,
 "nbformat_minor": 5
}

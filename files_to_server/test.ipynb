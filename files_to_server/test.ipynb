{
 "cells": [
  {
   "cell_type": "code",
   "execution_count": null,
   "id": "8c057a72",
   "metadata": {},
   "outputs": [],
   "source": [
    "from dotenv import load_dotenv\n",
    "import os\n",
    "load_dotenv()\n",
    "dataset = os.environ.get('dataset', None)\n",
    "print(dataset)\n",
    "TRAIN_CSV = f\"Trainset/{dataset}/train.csv\"\n",
    "VAL_CSV   = f\"Trainset/{dataset}/val.csv\"   \n",
    "potential_datasset = ['dreaddit', 'pubmedqa']"
   ]
  },
  {
   "cell_type": "code",
   "execution_count": 5,
   "id": "bd217f46",
   "metadata": {},
   "outputs": [],
   "source": [
    "from utils import prompt_maker\n",
    "test = prompt_maker.promptMaker(potential_datasset)\n",
    "ds = test.processingdataset(TRAIN_CSV,VAL_CSV)"
   ]
  },
  {
   "cell_type": "code",
   "execution_count": 6,
   "id": "9a2cfe7e",
   "metadata": {},
   "outputs": [
    {
     "name": "stdout",
     "output_type": "stream",
     "text": [
      "DatasetDict({\n",
      "    train: Dataset({\n",
      "        features: ['text'],\n",
      "        num_rows: 2270\n",
      "    })\n",
      "    validation: Dataset({\n",
      "        features: ['text'],\n",
      "        num_rows: 568\n",
      "    })\n",
      "})\n"
     ]
    }
   ],
   "source": [
    "print(ds)"
   ]
  },
  {
   "cell_type": "code",
   "execution_count": null,
   "id": "0b2117bb",
   "metadata": {},
   "outputs": [],
   "source": []
  }
 ],
 "metadata": {
  "kernelspec": {
   "display_name": "llamatest",
   "language": "python",
   "name": "python3"
  },
  "language_info": {
   "codemirror_mode": {
    "name": "ipython",
    "version": 3
   },
   "file_extension": ".py",
   "mimetype": "text/x-python",
   "name": "python",
   "nbconvert_exporter": "python",
   "pygments_lexer": "ipython3",
   "version": "3.12.11"
  }
 },
 "nbformat": 4,
 "nbformat_minor": 5
}
